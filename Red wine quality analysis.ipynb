{
 "cells": [
  {
   "cell_type": "markdown",
   "id": "facca99c",
   "metadata": {},
   "source": [
    "# Import modules"
   ]
  },
  {
   "cell_type": "code",
   "execution_count": 1,
   "id": "66c4ea61",
   "metadata": {},
   "outputs": [],
   "source": [
    "import pandas as pd \n",
    "import numpy as np\n",
    "import matplotlib.pyplot as plt\n",
    "import warnings\n",
    "warnings.filterwarnings(\"ignore\")\n"
   ]
  },
  {
   "cell_type": "markdown",
   "id": "170cbb4a",
   "metadata": {},
   "source": [
    "# Loading dataset"
   ]
  },
  {
   "cell_type": "code",
   "execution_count": 2,
   "id": "89084b2e",
   "metadata": {},
   "outputs": [
    {
     "data": {
      "text/html": [
       "<div>\n",
       "<style scoped>\n",
       "    .dataframe tbody tr th:only-of-type {\n",
       "        vertical-align: middle;\n",
       "    }\n",
       "\n",
       "    .dataframe tbody tr th {\n",
       "        vertical-align: top;\n",
       "    }\n",
       "\n",
       "    .dataframe thead th {\n",
       "        text-align: right;\n",
       "    }\n",
       "</style>\n",
       "<table border=\"1\" class=\"dataframe\">\n",
       "  <thead>\n",
       "    <tr style=\"text-align: right;\">\n",
       "      <th></th>\n",
       "      <th>Unnamed: 0</th>\n",
       "      <th>fixed.acidity</th>\n",
       "      <th>volatile.acidity</th>\n",
       "      <th>citric.acid</th>\n",
       "      <th>residual.sugar</th>\n",
       "      <th>chlorides</th>\n",
       "      <th>free.sulfur.dioxide</th>\n",
       "      <th>total.sulfur.dioxide</th>\n",
       "      <th>density</th>\n",
       "      <th>pH</th>\n",
       "      <th>sulphates</th>\n",
       "      <th>alcohol</th>\n",
       "      <th>quality</th>\n",
       "    </tr>\n",
       "  </thead>\n",
       "  <tbody>\n",
       "    <tr>\n",
       "      <th>0</th>\n",
       "      <td>1</td>\n",
       "      <td>7.4</td>\n",
       "      <td>0.70</td>\n",
       "      <td>0.00</td>\n",
       "      <td>1.9</td>\n",
       "      <td>0.076</td>\n",
       "      <td>11.0</td>\n",
       "      <td>34.0</td>\n",
       "      <td>0.9978</td>\n",
       "      <td>3.51</td>\n",
       "      <td>0.56</td>\n",
       "      <td>9.4</td>\n",
       "      <td>5</td>\n",
       "    </tr>\n",
       "    <tr>\n",
       "      <th>1</th>\n",
       "      <td>2</td>\n",
       "      <td>7.8</td>\n",
       "      <td>0.88</td>\n",
       "      <td>0.00</td>\n",
       "      <td>2.6</td>\n",
       "      <td>0.098</td>\n",
       "      <td>25.0</td>\n",
       "      <td>67.0</td>\n",
       "      <td>0.9968</td>\n",
       "      <td>3.20</td>\n",
       "      <td>0.68</td>\n",
       "      <td>9.8</td>\n",
       "      <td>5</td>\n",
       "    </tr>\n",
       "    <tr>\n",
       "      <th>2</th>\n",
       "      <td>3</td>\n",
       "      <td>7.8</td>\n",
       "      <td>0.76</td>\n",
       "      <td>0.04</td>\n",
       "      <td>2.3</td>\n",
       "      <td>0.092</td>\n",
       "      <td>15.0</td>\n",
       "      <td>54.0</td>\n",
       "      <td>0.9970</td>\n",
       "      <td>3.26</td>\n",
       "      <td>0.65</td>\n",
       "      <td>9.8</td>\n",
       "      <td>5</td>\n",
       "    </tr>\n",
       "    <tr>\n",
       "      <th>3</th>\n",
       "      <td>4</td>\n",
       "      <td>11.2</td>\n",
       "      <td>0.28</td>\n",
       "      <td>0.56</td>\n",
       "      <td>1.9</td>\n",
       "      <td>0.075</td>\n",
       "      <td>17.0</td>\n",
       "      <td>60.0</td>\n",
       "      <td>0.9980</td>\n",
       "      <td>3.16</td>\n",
       "      <td>0.58</td>\n",
       "      <td>9.8</td>\n",
       "      <td>6</td>\n",
       "    </tr>\n",
       "    <tr>\n",
       "      <th>4</th>\n",
       "      <td>5</td>\n",
       "      <td>7.4</td>\n",
       "      <td>0.70</td>\n",
       "      <td>0.00</td>\n",
       "      <td>1.9</td>\n",
       "      <td>0.076</td>\n",
       "      <td>11.0</td>\n",
       "      <td>34.0</td>\n",
       "      <td>0.9978</td>\n",
       "      <td>3.51</td>\n",
       "      <td>0.56</td>\n",
       "      <td>9.4</td>\n",
       "      <td>5</td>\n",
       "    </tr>\n",
       "  </tbody>\n",
       "</table>\n",
       "</div>"
      ],
      "text/plain": [
       "   Unnamed: 0  fixed.acidity  volatile.acidity  citric.acid  residual.sugar  \\\n",
       "0           1            7.4              0.70         0.00             1.9   \n",
       "1           2            7.8              0.88         0.00             2.6   \n",
       "2           3            7.8              0.76         0.04             2.3   \n",
       "3           4           11.2              0.28         0.56             1.9   \n",
       "4           5            7.4              0.70         0.00             1.9   \n",
       "\n",
       "   chlorides  free.sulfur.dioxide  total.sulfur.dioxide  density    pH  \\\n",
       "0      0.076                 11.0                  34.0   0.9978  3.51   \n",
       "1      0.098                 25.0                  67.0   0.9968  3.20   \n",
       "2      0.092                 15.0                  54.0   0.9970  3.26   \n",
       "3      0.075                 17.0                  60.0   0.9980  3.16   \n",
       "4      0.076                 11.0                  34.0   0.9978  3.51   \n",
       "\n",
       "   sulphates  alcohol  quality  \n",
       "0       0.56      9.4        5  \n",
       "1       0.68      9.8        5  \n",
       "2       0.65      9.8        5  \n",
       "3       0.58      9.8        6  \n",
       "4       0.56      9.4        5  "
      ]
     },
     "execution_count": 2,
     "metadata": {},
     "output_type": "execute_result"
    }
   ],
   "source": [
    "data=pd.read_csv('C:\\\\Users\\\\USER\\\\Desktop\\\\winqu\\\\wineQualityReds.csv')\n",
    "data.head(5)"
   ]
  },
  {
   "cell_type": "code",
   "execution_count": 3,
   "id": "da9fd78d",
   "metadata": {},
   "outputs": [
    {
     "name": "stdout",
     "output_type": "stream",
     "text": [
      "<class 'pandas.core.frame.DataFrame'>\n",
      "RangeIndex: 1599 entries, 0 to 1598\n",
      "Data columns (total 13 columns):\n",
      " #   Column                Non-Null Count  Dtype  \n",
      "---  ------                --------------  -----  \n",
      " 0   Unnamed: 0            1599 non-null   int64  \n",
      " 1   fixed.acidity         1599 non-null   float64\n",
      " 2   volatile.acidity      1599 non-null   float64\n",
      " 3   citric.acid           1599 non-null   float64\n",
      " 4   residual.sugar        1599 non-null   float64\n",
      " 5   chlorides             1599 non-null   float64\n",
      " 6   free.sulfur.dioxide   1599 non-null   float64\n",
      " 7   total.sulfur.dioxide  1599 non-null   float64\n",
      " 8   density               1599 non-null   float64\n",
      " 9   pH                    1599 non-null   float64\n",
      " 10  sulphates             1599 non-null   float64\n",
      " 11  alcohol               1599 non-null   float64\n",
      " 12  quality               1599 non-null   int64  \n",
      "dtypes: float64(11), int64(2)\n",
      "memory usage: 162.5 KB\n"
     ]
    }
   ],
   "source": [
    "data.info()"
   ]
  },
  {
   "cell_type": "code",
   "execution_count": 4,
   "id": "910a64bb",
   "metadata": {},
   "outputs": [
    {
     "data": {
      "text/html": [
       "<div>\n",
       "<style scoped>\n",
       "    .dataframe tbody tr th:only-of-type {\n",
       "        vertical-align: middle;\n",
       "    }\n",
       "\n",
       "    .dataframe tbody tr th {\n",
       "        vertical-align: top;\n",
       "    }\n",
       "\n",
       "    .dataframe thead th {\n",
       "        text-align: right;\n",
       "    }\n",
       "</style>\n",
       "<table border=\"1\" class=\"dataframe\">\n",
       "  <thead>\n",
       "    <tr style=\"text-align: right;\">\n",
       "      <th></th>\n",
       "      <th>count</th>\n",
       "      <th>mean</th>\n",
       "      <th>std</th>\n",
       "      <th>min</th>\n",
       "      <th>25%</th>\n",
       "      <th>50%</th>\n",
       "      <th>75%</th>\n",
       "      <th>max</th>\n",
       "    </tr>\n",
       "  </thead>\n",
       "  <tbody>\n",
       "    <tr>\n",
       "      <th>Unnamed: 0</th>\n",
       "      <td>1599.0</td>\n",
       "      <td>800.000000</td>\n",
       "      <td>461.735855</td>\n",
       "      <td>1.00000</td>\n",
       "      <td>400.5000</td>\n",
       "      <td>800.00000</td>\n",
       "      <td>1199.500000</td>\n",
       "      <td>1599.00000</td>\n",
       "    </tr>\n",
       "    <tr>\n",
       "      <th>fixed.acidity</th>\n",
       "      <td>1599.0</td>\n",
       "      <td>8.319637</td>\n",
       "      <td>1.741096</td>\n",
       "      <td>4.60000</td>\n",
       "      <td>7.1000</td>\n",
       "      <td>7.90000</td>\n",
       "      <td>9.200000</td>\n",
       "      <td>15.90000</td>\n",
       "    </tr>\n",
       "    <tr>\n",
       "      <th>volatile.acidity</th>\n",
       "      <td>1599.0</td>\n",
       "      <td>0.527821</td>\n",
       "      <td>0.179060</td>\n",
       "      <td>0.12000</td>\n",
       "      <td>0.3900</td>\n",
       "      <td>0.52000</td>\n",
       "      <td>0.640000</td>\n",
       "      <td>1.58000</td>\n",
       "    </tr>\n",
       "    <tr>\n",
       "      <th>citric.acid</th>\n",
       "      <td>1599.0</td>\n",
       "      <td>0.270976</td>\n",
       "      <td>0.194801</td>\n",
       "      <td>0.00000</td>\n",
       "      <td>0.0900</td>\n",
       "      <td>0.26000</td>\n",
       "      <td>0.420000</td>\n",
       "      <td>1.00000</td>\n",
       "    </tr>\n",
       "    <tr>\n",
       "      <th>residual.sugar</th>\n",
       "      <td>1599.0</td>\n",
       "      <td>2.538806</td>\n",
       "      <td>1.409928</td>\n",
       "      <td>0.90000</td>\n",
       "      <td>1.9000</td>\n",
       "      <td>2.20000</td>\n",
       "      <td>2.600000</td>\n",
       "      <td>15.50000</td>\n",
       "    </tr>\n",
       "    <tr>\n",
       "      <th>chlorides</th>\n",
       "      <td>1599.0</td>\n",
       "      <td>0.087467</td>\n",
       "      <td>0.047065</td>\n",
       "      <td>0.01200</td>\n",
       "      <td>0.0700</td>\n",
       "      <td>0.07900</td>\n",
       "      <td>0.090000</td>\n",
       "      <td>0.61100</td>\n",
       "    </tr>\n",
       "    <tr>\n",
       "      <th>free.sulfur.dioxide</th>\n",
       "      <td>1599.0</td>\n",
       "      <td>15.874922</td>\n",
       "      <td>10.460157</td>\n",
       "      <td>1.00000</td>\n",
       "      <td>7.0000</td>\n",
       "      <td>14.00000</td>\n",
       "      <td>21.000000</td>\n",
       "      <td>72.00000</td>\n",
       "    </tr>\n",
       "    <tr>\n",
       "      <th>total.sulfur.dioxide</th>\n",
       "      <td>1599.0</td>\n",
       "      <td>46.467792</td>\n",
       "      <td>32.895324</td>\n",
       "      <td>6.00000</td>\n",
       "      <td>22.0000</td>\n",
       "      <td>38.00000</td>\n",
       "      <td>62.000000</td>\n",
       "      <td>289.00000</td>\n",
       "    </tr>\n",
       "    <tr>\n",
       "      <th>density</th>\n",
       "      <td>1599.0</td>\n",
       "      <td>0.996747</td>\n",
       "      <td>0.001887</td>\n",
       "      <td>0.99007</td>\n",
       "      <td>0.9956</td>\n",
       "      <td>0.99675</td>\n",
       "      <td>0.997835</td>\n",
       "      <td>1.00369</td>\n",
       "    </tr>\n",
       "    <tr>\n",
       "      <th>pH</th>\n",
       "      <td>1599.0</td>\n",
       "      <td>3.311113</td>\n",
       "      <td>0.154386</td>\n",
       "      <td>2.74000</td>\n",
       "      <td>3.2100</td>\n",
       "      <td>3.31000</td>\n",
       "      <td>3.400000</td>\n",
       "      <td>4.01000</td>\n",
       "    </tr>\n",
       "    <tr>\n",
       "      <th>sulphates</th>\n",
       "      <td>1599.0</td>\n",
       "      <td>0.658149</td>\n",
       "      <td>0.169507</td>\n",
       "      <td>0.33000</td>\n",
       "      <td>0.5500</td>\n",
       "      <td>0.62000</td>\n",
       "      <td>0.730000</td>\n",
       "      <td>2.00000</td>\n",
       "    </tr>\n",
       "    <tr>\n",
       "      <th>alcohol</th>\n",
       "      <td>1599.0</td>\n",
       "      <td>10.422983</td>\n",
       "      <td>1.065668</td>\n",
       "      <td>8.40000</td>\n",
       "      <td>9.5000</td>\n",
       "      <td>10.20000</td>\n",
       "      <td>11.100000</td>\n",
       "      <td>14.90000</td>\n",
       "    </tr>\n",
       "    <tr>\n",
       "      <th>quality</th>\n",
       "      <td>1599.0</td>\n",
       "      <td>5.636023</td>\n",
       "      <td>0.807569</td>\n",
       "      <td>3.00000</td>\n",
       "      <td>5.0000</td>\n",
       "      <td>6.00000</td>\n",
       "      <td>6.000000</td>\n",
       "      <td>8.00000</td>\n",
       "    </tr>\n",
       "  </tbody>\n",
       "</table>\n",
       "</div>"
      ],
      "text/plain": [
       "                       count        mean         std      min       25%  \\\n",
       "Unnamed: 0            1599.0  800.000000  461.735855  1.00000  400.5000   \n",
       "fixed.acidity         1599.0    8.319637    1.741096  4.60000    7.1000   \n",
       "volatile.acidity      1599.0    0.527821    0.179060  0.12000    0.3900   \n",
       "citric.acid           1599.0    0.270976    0.194801  0.00000    0.0900   \n",
       "residual.sugar        1599.0    2.538806    1.409928  0.90000    1.9000   \n",
       "chlorides             1599.0    0.087467    0.047065  0.01200    0.0700   \n",
       "free.sulfur.dioxide   1599.0   15.874922   10.460157  1.00000    7.0000   \n",
       "total.sulfur.dioxide  1599.0   46.467792   32.895324  6.00000   22.0000   \n",
       "density               1599.0    0.996747    0.001887  0.99007    0.9956   \n",
       "pH                    1599.0    3.311113    0.154386  2.74000    3.2100   \n",
       "sulphates             1599.0    0.658149    0.169507  0.33000    0.5500   \n",
       "alcohol               1599.0   10.422983    1.065668  8.40000    9.5000   \n",
       "quality               1599.0    5.636023    0.807569  3.00000    5.0000   \n",
       "\n",
       "                            50%          75%         max  \n",
       "Unnamed: 0            800.00000  1199.500000  1599.00000  \n",
       "fixed.acidity           7.90000     9.200000    15.90000  \n",
       "volatile.acidity        0.52000     0.640000     1.58000  \n",
       "citric.acid             0.26000     0.420000     1.00000  \n",
       "residual.sugar          2.20000     2.600000    15.50000  \n",
       "chlorides               0.07900     0.090000     0.61100  \n",
       "free.sulfur.dioxide    14.00000    21.000000    72.00000  \n",
       "total.sulfur.dioxide   38.00000    62.000000   289.00000  \n",
       "density                 0.99675     0.997835     1.00369  \n",
       "pH                      3.31000     3.400000     4.01000  \n",
       "sulphates               0.62000     0.730000     2.00000  \n",
       "alcohol                10.20000    11.100000    14.90000  \n",
       "quality                 6.00000     6.000000     8.00000  "
      ]
     },
     "execution_count": 4,
     "metadata": {},
     "output_type": "execute_result"
    }
   ],
   "source": [
    "data.describe().T"
   ]
  },
  {
   "cell_type": "code",
   "execution_count": 5,
   "id": "22e69ff3",
   "metadata": {},
   "outputs": [
    {
     "data": {
      "text/plain": [
       "Unnamed: 0              0\n",
       "fixed.acidity           0\n",
       "volatile.acidity        0\n",
       "citric.acid             0\n",
       "residual.sugar          0\n",
       "chlorides               0\n",
       "free.sulfur.dioxide     0\n",
       "total.sulfur.dioxide    0\n",
       "density                 0\n",
       "pH                      0\n",
       "sulphates               0\n",
       "alcohol                 0\n",
       "quality                 0\n",
       "dtype: int64"
      ]
     },
     "execution_count": 5,
     "metadata": {},
     "output_type": "execute_result"
    }
   ],
   "source": [
    "# getting the null value\n",
    "data.isnull().sum()"
   ]
  },
  {
   "cell_type": "code",
   "execution_count": 6,
   "id": "b12cde64",
   "metadata": {},
   "outputs": [
    {
     "name": "stdout",
     "output_type": "stream",
     "text": [
      "Shape of dataframe: (1599, 13)\n"
     ]
    }
   ],
   "source": [
    "print(\"Shape of dataframe: {}\".format(data.shape))"
   ]
  },
  {
   "cell_type": "code",
   "execution_count": 7,
   "id": "6dd5c2d4",
   "metadata": {},
   "outputs": [
    {
     "data": {
      "text/html": [
       "<div>\n",
       "<style scoped>\n",
       "    .dataframe tbody tr th:only-of-type {\n",
       "        vertical-align: middle;\n",
       "    }\n",
       "\n",
       "    .dataframe tbody tr th {\n",
       "        vertical-align: top;\n",
       "    }\n",
       "\n",
       "    .dataframe thead th {\n",
       "        text-align: right;\n",
       "    }\n",
       "</style>\n",
       "<table border=\"1\" class=\"dataframe\">\n",
       "  <thead>\n",
       "    <tr style=\"text-align: right;\">\n",
       "      <th></th>\n",
       "      <th>fixed.acidity</th>\n",
       "      <th>volatile.acidity</th>\n",
       "      <th>citric.acid</th>\n",
       "      <th>residual.sugar</th>\n",
       "      <th>chlorides</th>\n",
       "      <th>free.sulfur.dioxide</th>\n",
       "      <th>total.sulfur.dioxide</th>\n",
       "      <th>density</th>\n",
       "      <th>pH</th>\n",
       "      <th>sulphates</th>\n",
       "      <th>alcohol</th>\n",
       "      <th>quality</th>\n",
       "    </tr>\n",
       "  </thead>\n",
       "  <tbody>\n",
       "    <tr>\n",
       "      <th>420</th>\n",
       "      <td>9.5</td>\n",
       "      <td>0.560</td>\n",
       "      <td>0.33</td>\n",
       "      <td>2.4</td>\n",
       "      <td>0.089</td>\n",
       "      <td>35.0</td>\n",
       "      <td>67.0</td>\n",
       "      <td>0.99720</td>\n",
       "      <td>3.28</td>\n",
       "      <td>0.73</td>\n",
       "      <td>11.8</td>\n",
       "      <td>7</td>\n",
       "    </tr>\n",
       "    <tr>\n",
       "      <th>560</th>\n",
       "      <td>12.7</td>\n",
       "      <td>0.600</td>\n",
       "      <td>0.49</td>\n",
       "      <td>2.8</td>\n",
       "      <td>0.075</td>\n",
       "      <td>5.0</td>\n",
       "      <td>19.0</td>\n",
       "      <td>0.99940</td>\n",
       "      <td>3.14</td>\n",
       "      <td>0.57</td>\n",
       "      <td>11.4</td>\n",
       "      <td>5</td>\n",
       "    </tr>\n",
       "    <tr>\n",
       "      <th>1540</th>\n",
       "      <td>6.2</td>\n",
       "      <td>0.520</td>\n",
       "      <td>0.08</td>\n",
       "      <td>4.4</td>\n",
       "      <td>0.071</td>\n",
       "      <td>11.0</td>\n",
       "      <td>32.0</td>\n",
       "      <td>0.99646</td>\n",
       "      <td>3.56</td>\n",
       "      <td>0.63</td>\n",
       "      <td>11.6</td>\n",
       "      <td>6</td>\n",
       "    </tr>\n",
       "    <tr>\n",
       "      <th>1199</th>\n",
       "      <td>7.9</td>\n",
       "      <td>0.580</td>\n",
       "      <td>0.23</td>\n",
       "      <td>2.3</td>\n",
       "      <td>0.076</td>\n",
       "      <td>23.0</td>\n",
       "      <td>94.0</td>\n",
       "      <td>0.99686</td>\n",
       "      <td>3.21</td>\n",
       "      <td>0.58</td>\n",
       "      <td>9.5</td>\n",
       "      <td>6</td>\n",
       "    </tr>\n",
       "    <tr>\n",
       "      <th>1282</th>\n",
       "      <td>7.9</td>\n",
       "      <td>0.765</td>\n",
       "      <td>0.00</td>\n",
       "      <td>2.0</td>\n",
       "      <td>0.084</td>\n",
       "      <td>9.0</td>\n",
       "      <td>22.0</td>\n",
       "      <td>0.99619</td>\n",
       "      <td>3.33</td>\n",
       "      <td>0.68</td>\n",
       "      <td>10.9</td>\n",
       "      <td>6</td>\n",
       "    </tr>\n",
       "    <tr>\n",
       "      <th>1437</th>\n",
       "      <td>6.8</td>\n",
       "      <td>0.915</td>\n",
       "      <td>0.29</td>\n",
       "      <td>4.8</td>\n",
       "      <td>0.070</td>\n",
       "      <td>15.0</td>\n",
       "      <td>39.0</td>\n",
       "      <td>0.99577</td>\n",
       "      <td>3.53</td>\n",
       "      <td>0.54</td>\n",
       "      <td>11.1</td>\n",
       "      <td>5</td>\n",
       "    </tr>\n",
       "    <tr>\n",
       "      <th>1364</th>\n",
       "      <td>7.2</td>\n",
       "      <td>0.605</td>\n",
       "      <td>0.02</td>\n",
       "      <td>1.9</td>\n",
       "      <td>0.096</td>\n",
       "      <td>10.0</td>\n",
       "      <td>31.0</td>\n",
       "      <td>0.99500</td>\n",
       "      <td>3.46</td>\n",
       "      <td>0.53</td>\n",
       "      <td>11.8</td>\n",
       "      <td>6</td>\n",
       "    </tr>\n",
       "    <tr>\n",
       "      <th>1145</th>\n",
       "      <td>8.2</td>\n",
       "      <td>0.200</td>\n",
       "      <td>0.43</td>\n",
       "      <td>2.5</td>\n",
       "      <td>0.076</td>\n",
       "      <td>31.0</td>\n",
       "      <td>51.0</td>\n",
       "      <td>0.99672</td>\n",
       "      <td>3.53</td>\n",
       "      <td>0.81</td>\n",
       "      <td>10.4</td>\n",
       "      <td>6</td>\n",
       "    </tr>\n",
       "    <tr>\n",
       "      <th>940</th>\n",
       "      <td>9.6</td>\n",
       "      <td>0.330</td>\n",
       "      <td>0.52</td>\n",
       "      <td>2.2</td>\n",
       "      <td>0.074</td>\n",
       "      <td>13.0</td>\n",
       "      <td>25.0</td>\n",
       "      <td>0.99509</td>\n",
       "      <td>3.36</td>\n",
       "      <td>0.76</td>\n",
       "      <td>12.4</td>\n",
       "      <td>7</td>\n",
       "    </tr>\n",
       "    <tr>\n",
       "      <th>1368</th>\n",
       "      <td>8.0</td>\n",
       "      <td>0.770</td>\n",
       "      <td>0.32</td>\n",
       "      <td>2.1</td>\n",
       "      <td>0.079</td>\n",
       "      <td>16.0</td>\n",
       "      <td>74.0</td>\n",
       "      <td>0.99656</td>\n",
       "      <td>3.27</td>\n",
       "      <td>0.50</td>\n",
       "      <td>9.8</td>\n",
       "      <td>6</td>\n",
       "    </tr>\n",
       "  </tbody>\n",
       "</table>\n",
       "</div>"
      ],
      "text/plain": [
       "      fixed.acidity  volatile.acidity  citric.acid  residual.sugar  chlorides  \\\n",
       "420             9.5             0.560         0.33             2.4      0.089   \n",
       "560            12.7             0.600         0.49             2.8      0.075   \n",
       "1540            6.2             0.520         0.08             4.4      0.071   \n",
       "1199            7.9             0.580         0.23             2.3      0.076   \n",
       "1282            7.9             0.765         0.00             2.0      0.084   \n",
       "1437            6.8             0.915         0.29             4.8      0.070   \n",
       "1364            7.2             0.605         0.02             1.9      0.096   \n",
       "1145            8.2             0.200         0.43             2.5      0.076   \n",
       "940             9.6             0.330         0.52             2.2      0.074   \n",
       "1368            8.0             0.770         0.32             2.1      0.079   \n",
       "\n",
       "      free.sulfur.dioxide  total.sulfur.dioxide  density    pH  sulphates  \\\n",
       "420                  35.0                  67.0  0.99720  3.28       0.73   \n",
       "560                   5.0                  19.0  0.99940  3.14       0.57   \n",
       "1540                 11.0                  32.0  0.99646  3.56       0.63   \n",
       "1199                 23.0                  94.0  0.99686  3.21       0.58   \n",
       "1282                  9.0                  22.0  0.99619  3.33       0.68   \n",
       "1437                 15.0                  39.0  0.99577  3.53       0.54   \n",
       "1364                 10.0                  31.0  0.99500  3.46       0.53   \n",
       "1145                 31.0                  51.0  0.99672  3.53       0.81   \n",
       "940                  13.0                  25.0  0.99509  3.36       0.76   \n",
       "1368                 16.0                  74.0  0.99656  3.27       0.50   \n",
       "\n",
       "      alcohol  quality  \n",
       "420      11.8        7  \n",
       "560      11.4        5  \n",
       "1540     11.6        6  \n",
       "1199      9.5        6  \n",
       "1282     10.9        6  \n",
       "1437     11.1        5  \n",
       "1364     11.8        6  \n",
       "1145     10.4        6  \n",
       "940      12.4        7  \n",
       "1368      9.8        6  "
      ]
     },
     "execution_count": 7,
     "metadata": {},
     "output_type": "execute_result"
    }
   ],
   "source": [
    "data.drop('Unnamed: 0', axis=1, inplace=True)\n",
    "data.sample(10)"
   ]
  },
  {
   "cell_type": "markdown",
   "id": "e849ec76",
   "metadata": {},
   "source": [
    "# Data exploratory"
   ]
  },
  {
   "cell_type": "code",
   "execution_count": 9,
   "id": "3c5b0871",
   "metadata": {},
   "outputs": [
    {
     "data": {
      "text/plain": [
       "<AxesSubplot:>"
      ]
     },
     "execution_count": 9,
     "metadata": {},
     "output_type": "execute_result"
    },
    {
     "data": {
      "image/png": "[encoded data removed]",
      "text/plain": [
       "<Figure size 1296x864 with 2 Axes>"
      ]
     },
     "metadata": {
      "needs_background": "light"
     },
     "output_type": "display_data"
    }
   ],
   "source": [
    "import seaborn as sns\n",
    "data_corr=data.corr(method='pearson')\n",
    "plt.figure(figsize=(18,12))\n",
    "sns.heatmap(data_corr,vmax=1,annot=True,square=True,cmap='cubehelix')"
   ]
  },
  {
   "cell_type": "code",
   "execution_count": 11,
   "id": "a2ecc406",
   "metadata": {},
   "outputs": [
    {
     "data": {
      "text/plain": [
       "<AxesSubplot:xlabel='quality', ylabel='count'>"
      ]
     },
     "execution_count": 11,
     "metadata": {},
     "output_type": "execute_result"
    },
    {
     "data": {
      "image/png": "[encoded data removed]",
      "text/plain": [
       "<Figure size 1008x504 with 1 Axes>"
      ]
     },
     "metadata": {},
     "output_type": "display_data"
    }
   ],
   "source": [
    "\n",
    "sns.set(rc={'figure.figsize':(14,7)})\n",
    "sns.countplot('quality', data = data)"
   ]
  },
  {
   "cell_type": "code",
   "execution_count": 12,
   "id": "5be8eba3",
   "metadata": {},
   "outputs": [
    {
     "data": {
      "text/plain": [
       "<AxesSubplot:xlabel='alcohol', ylabel='count'>"
      ]
     },
     "execution_count": 12,
     "metadata": {},
     "output_type": "execute_result"
    },
    {
     "data": {
      "image/png": "[encoded data removed]",
      "text/plain": [
       "<Figure size 1080x504 with 1 Axes>"
      ]
     },
     "metadata": {},
     "output_type": "display_data"
    }
   ],
   "source": [
    "\n",
    "sns.set(rc={'figure.figsize':(15,7)})\n",
    "sns.countplot('alcohol', data = data)"
   ]
  },
  {
   "cell_type": "markdown",
   "id": "298814bd",
   "metadata": {},
   "source": [
    "# Train and Test"
   ]
  },
  {
   "cell_type": "code",
   "execution_count": 13,
   "id": "fd26053e",
   "metadata": {},
   "outputs": [
    {
     "data": {
      "text/plain": [
       "array([[-0.52835961,  0.96187667, -1.39147228, ..., -0.57920652,\n",
       "        -0.96024611, -0.78782264],\n",
       "       [-0.29854743,  1.96744245, -1.39147228, ...,  0.1289504 ,\n",
       "        -0.58477711, -0.78782264],\n",
       "       [-0.29854743,  1.29706527, -1.18607043, ..., -0.04808883,\n",
       "        -0.58477711, -0.78782264],\n",
       "       ...,\n",
       "       [-1.1603431 , -0.09955388, -0.72391627, ...,  0.54204194,\n",
       "         0.54162988,  0.45084835],\n",
       "       [-1.39015528,  0.65462046, -0.77526673, ...,  0.30598963,\n",
       "        -0.20930812, -0.78782264],\n",
       "       [-1.33270223, -1.21684919,  1.02199944, ...,  0.01092425,\n",
       "         0.54162988,  0.45084835]])"
      ]
     },
     "execution_count": 13,
     "metadata": {},
     "output_type": "execute_result"
    }
   ],
   "source": [
    "from sklearn.preprocessing import StandardScaler\n",
    "scale = StandardScaler()\n",
    "scaled_data = scale.fit_transform(data) \n",
    "scaled_data"
   ]
  },
  {
   "cell_type": "code",
   "execution_count": 14,
   "id": "072dba52",
   "metadata": {},
   "outputs": [
    {
     "name": "stdout",
     "output_type": "stream",
     "text": [
      "(1279, 11) (320, 11) (1279,) (320,)\n"
     ]
    }
   ],
   "source": [
    "from sklearn.model_selection import train_test_split\n",
    "X_train, X_test, y_train, y_test = train_test_split(scaled_data[:,:-1], np.array(data.iloc[:,-1]), test_size=0.2, random_state=42)\n",
    "print(X_train.shape, X_test.shape, y_train.shape, y_test.shape)"
   ]
  },
  {
   "cell_type": "code",
   "execution_count": 15,
   "id": "6ed9e0a7",
   "metadata": {},
   "outputs": [],
   "source": [
    "def euclidean_dist(a,b):\n",
    "    distance = np.square(a - b) \n",
    "    distance = np.sum(distance)\n",
    "    distance = np.sqrt(distance) \n",
    "    return distance"
   ]
  },
  {
   "cell_type": "code",
   "execution_count": 16,
   "id": "2341b9eb",
   "metadata": {},
   "outputs": [],
   "source": [
    "def distance_from_all_training(test_point):\n",
    "    dist_array = np.array([])\n",
    "    for train_point in X_train:\n",
    "        dist = euclidean_dist(test_point, train_point)\n",
    "        dist_array = np.append(dist_array,dist)\n",
    "    return dist_array"
   ]
  },
  {
   "cell_type": "code",
   "execution_count": 17,
   "id": "367ccd59",
   "metadata": {},
   "outputs": [],
   "source": [
    "def KNNClassifier(train_features, train_target, test_features, k = 5):\n",
    "    predictions = np.array([])\n",
    "    train_target = train_target.reshape(-1,1)\n",
    "    for test_point in test_features: \n",
    "        dist_array = distance_from_all_training(test_point).reshape(-1,1) \n",
    "        neighbors = np.concatenate((dist_array, train_target), axis = 1) \n",
    "        neighbors_sorted = neighbors[neighbors[:, 0].argsort()] \n",
    "        k_neighbors = neighbors_sorted[:k] \n",
    "        frequency = np.unique(k_neighbors[:, 1], return_counts=True)\n",
    "        target_class = frequency[0][frequency[1].argmax()] \n",
    "        predictions = np.append(predictions, target_class)\n",
    "    \n",
    "    return predictions"
   ]
  },
  {
   "cell_type": "code",
   "execution_count": 18,
   "id": "df8c1d76",
   "metadata": {},
   "outputs": [],
   "source": [
    "def accuracy(y_test, y_preds):\n",
    "    total_correct = 0\n",
    "    for i in range(len(y_test)):\n",
    "        if int(y_test[i]) == int(y_preds[i]):\n",
    "            total_correct += 1\n",
    "    acc = total_correct/len(y_test) \n",
    "    return acc*100 "
   ]
  },
  {
   "cell_type": "code",
   "execution_count": 19,
   "id": "302ff189",
   "metadata": {},
   "outputs": [],
   "source": [
    "pred = KNNClassifier(X_train, y_train, X_test, k = 5)"
   ]
  },
  {
   "cell_type": "code",
   "execution_count": 21,
   "id": "0e010ae6",
   "metadata": {},
   "outputs": [
    {
     "name": "stdout",
     "output_type": "stream",
     "text": [
      "Model accuracy = 55.31\n"
     ]
    }
   ],
   "source": [
    "acc = accuracy(y_test, pred)\n",
    "print('Model accuracy = {:.2f}'.format(acc))"
   ]
  },
  {
   "cell_type": "code",
   "execution_count": 22,
   "id": "23cf6f30",
   "metadata": {},
   "outputs": [
    {
     "name": "stdout",
     "output_type": "stream",
     "text": [
      "Model accuracy = 55.31\n"
     ]
    }
   ],
   "source": [
    "from sklearn.neighbors import KNeighborsClassifier as KNN\n",
    "\n",
    "model = KNN()\n",
    "model.fit(X_train, y_train)\n",
    "preds = model.predict(X_test)\n",
    "\n",
    "acc = accuracy(y_test, preds)\n",
    "print('Model accuracy = {:.2f}'.format(acc))"
   ]
  },
  {
   "cell_type": "code",
   "execution_count": 23,
   "id": "c43337be",
   "metadata": {},
   "outputs": [
    {
     "name": "stdout",
     "output_type": "stream",
     "text": [
      "Model accuracy = 66.88\n"
     ]
    }
   ],
   "source": [
    "from sklearn.ensemble import RandomForestClassifier\n",
    "rf = RandomForestClassifier()\n",
    "rf.fit(X_train,y_train)\n",
    "\n",
    "preds = rf.predict(X_test)\n",
    "\n",
    "acc = accuracy(y_test,preds)\n",
    "print('Model accuracy = {:.2f}'.format(acc))"
   ]
  },
  {
   "cell_type": "code",
   "execution_count": 28,
   "id": "540e8abd",
   "metadata": {},
   "outputs": [
    {
     "name": "stdout",
     "output_type": "stream",
     "text": [
      "              precision    recall  f1-score   support\n",
      "\n",
      "           3       0.00      0.00      0.00         1\n",
      "           4       0.00      0.00      0.00        10\n",
      "           5       0.71      0.77      0.74       130\n",
      "           6       0.63      0.70      0.67       132\n",
      "           7       0.66      0.50      0.57        42\n",
      "           8       0.00      0.00      0.00         5\n",
      "\n",
      "    accuracy                           0.67       320\n",
      "   macro avg       0.33      0.33      0.33       320\n",
      "weighted avg       0.64      0.67      0.65       320\n",
      "\n"
     ]
    }
   ],
   "source": [
    "from sklearn.metrics import classification_report\n",
    "print(classification_report(y_test,preds))"
   ]
  },
  {
   "cell_type": "code",
   "execution_count": null,
   "id": "b3bf0781",
   "metadata": {},
   "outputs": [],
   "source": []
  },
  {
   "cell_type": "code",
   "execution_count": null,
   "id": "58ecf46e",
   "metadata": {},
   "outputs": [],
   "source": []
  }
 ],
 "metadata": {
  "kernelspec": {
   "display_name": "Python 3 (ipykernel)",
   "language": "python",
   "name": "python3"
  },
  "language_info": {
   "codemirror_mode": {
    "name": "ipython",
    "version": 3
   },
   "file_extension": ".py",
   "mimetype": "text/x-python",
   "name": "python",
   "nbconvert_exporter": "python",
   "pygments_lexer": "ipython3",
   "version": "3.9.12"
  }
 },
 "nbformat": 4,
 "nbformat_minor": 5
}
